{
 "cells": [
  {
   "cell_type": "markdown",
   "metadata": {},
   "source": [
    "# Recitation Week 1\n",
    "\n",
    " In this recitation, we will focus on familiarizing you with Scala Basics. We will work with loops, variables, conditionals, classes. We will walk through a few example exercises and solve them in class."
   ]
  },
  {
   "cell_type": "markdown",
   "metadata": {},
   "source": [
    "## Exercise 1\n",
    "\n",
    "Given two strings, check if one is the reverse of the other. Return True if they are, False otherwise."
   ]
  },
  {
   "cell_type": "code",
   "execution_count": 2,
   "metadata": {},
   "outputs": [
    {
     "ename": "SyntaxError",
     "evalue": "invalid syntax (2222033011.py, line 3)",
     "output_type": "error",
     "traceback": [
      "\u001b[0;36m  File \u001b[0;32m\"/var/folders/l3/4_77rrq13zv_cxvs83xvr8940000gn/T/ipykernel_17605/2222033011.py\"\u001b[0;36m, line \u001b[0;32m3\u001b[0m\n\u001b[0;31m    var s1Len = s1.length\u001b[0m\n\u001b[0m        ^\u001b[0m\n\u001b[0;31mSyntaxError\u001b[0m\u001b[0;31m:\u001b[0m invalid syntax\n"
     ]
    }
   ],
   "source": [
    "def checkReversed(s1: String, s2: String): Boolean = {\n",
    "    // option 1: Using Foor Loop\n",
    "    \n",
    "    var s1Len = s1.length\n",
    "    var s1Rev = \"\"\n",
    "    for (x <- 1 to s1Len){\n",
    "        s1Rev += s1(s1Len - x)        \n",
    "    }\n",
    "    \n",
    "    return s1Rev == s2 // here we are using return, but we will discuss an alternative approach soon  \n",
    "}"
   ]
  },
  {
   "cell_type": "code",
   "execution_count": 2,
   "metadata": {},
   "outputs": [
    {
     "data": {
      "text/plain": [
       "\u001b[36mres1\u001b[39m: \u001b[32mBoolean\u001b[39m = true"
      ]
     },
     "execution_count": 2,
     "metadata": {},
     "output_type": "execute_result"
    }
   ],
   "source": [
    "checkReversed(\"scala\", \"alacs\")"
   ]
  },
  {
   "cell_type": "code",
   "execution_count": 3,
   "metadata": {},
   "outputs": [
    {
     "data": {
      "text/plain": [
       "defined \u001b[32mfunction\u001b[39m \u001b[36mcheckReversedAPI\u001b[39m"
      ]
     },
     "execution_count": 3,
     "metadata": {},
     "output_type": "execute_result"
    }
   ],
   "source": [
    "// option 2: Using Scala API\n",
    "def checkReversedAPI(s1: String, s2: String): Boolean = {\n",
    "    return s1 == s2.reverse\n",
    "}"
   ]
  },
  {
   "cell_type": "code",
   "execution_count": 4,
   "metadata": {},
   "outputs": [
    {
     "data": {
      "text/plain": [
       "\u001b[36mres3_0\u001b[39m: \u001b[32mBoolean\u001b[39m = true\n",
       "\u001b[36mres3_1\u001b[39m: \u001b[32mBoolean\u001b[39m = false"
      ]
     },
     "execution_count": 4,
     "metadata": {},
     "output_type": "execute_result"
    }
   ],
   "source": [
    "checkReversedAPI(\"scala\", \"alacs\")\n",
    "checkReversedAPI(\"ppl\", \"llp\")"
   ]
  },
  {
   "cell_type": "markdown",
   "metadata": {},
   "source": [
    "# Exercise 2\n",
    "\n",
    " Given a list of Integers and another list of Strings, combine (or zip) the two lists into a single list of pair Integer and String. For simplicity, assume the lengths of the two lists are equal."
   ]
  },
  {
   "cell_type": "code",
   "execution_count": 1,
   "metadata": {},
   "outputs": [
    {
     "ename": "SyntaxError",
     "evalue": "invalid syntax (122051370.py, line 2)",
     "output_type": "error",
     "traceback": [
      "\u001b[0;36m  File \u001b[0;32m\"/var/folders/l3/4_77rrq13zv_cxvs83xvr8940000gn/T/ipykernel_23083/122051370.py\"\u001b[0;36m, line \u001b[0;32m2\u001b[0m\n\u001b[0;31m    // option 1 : using loop\u001b[0m\n\u001b[0m    ^\u001b[0m\n\u001b[0;31mSyntaxError\u001b[0m\u001b[0;31m:\u001b[0m invalid syntax\n"
     ]
    }
   ],
   "source": [
    "def zipLists(l1 : List[Int], l2: List[String]): List[(Int, String)] = {\n",
    "    // option 1 : using loop\n",
    "    val l1Len = l1.length\n",
    "    var newList : List[(Int, String)] = List()\n",
    "    for (x <- 0 until l1Len){\n",
    "        newList :+= ((l1(x), l2(x)))\n",
    "    }\n",
    "    return newList\n",
    "}"
   ]
  },
  {
   "cell_type": "code",
   "execution_count": 6,
   "metadata": {},
   "outputs": [
    {
     "data": {
      "text/plain": [
       "\u001b[36mx\u001b[39m: \u001b[32mList\u001b[39m[(\u001b[32mInt\u001b[39m, \u001b[32mInt\u001b[39m)] = \u001b[33mList\u001b[39m((\u001b[32m1\u001b[39m, \u001b[32m2\u001b[39m))"
      ]
     },
     "execution_count": 6,
     "metadata": {},
     "output_type": "execute_result"
    }
   ],
   "source": [
    "val x : List[(Int, Int)] = List((1, 2)) // example of creating a new list"
   ]
  },
  {
   "cell_type": "code",
   "execution_count": 7,
   "metadata": {},
   "outputs": [
    {
     "data": {
      "text/plain": [
       "\u001b[36ml1\u001b[39m: \u001b[32mList\u001b[39m[\u001b[32mInt\u001b[39m] = \u001b[33mList\u001b[39m(\u001b[32m1\u001b[39m, \u001b[32m2\u001b[39m, \u001b[32m3\u001b[39m)\n",
       "\u001b[36ml2\u001b[39m: \u001b[32mList\u001b[39m[\u001b[32mString\u001b[39m] = \u001b[33mList\u001b[39m(\u001b[32m\"One\"\u001b[39m, \u001b[32m\"Two\"\u001b[39m, \u001b[32m\"Three\"\u001b[39m)\n",
       "\u001b[36mres6_2\u001b[39m: \u001b[32mList\u001b[39m[(\u001b[32mInt\u001b[39m, \u001b[32mString\u001b[39m)] = \u001b[33mList\u001b[39m((\u001b[32m1\u001b[39m, \u001b[32m\"One\"\u001b[39m), (\u001b[32m2\u001b[39m, \u001b[32m\"Two\"\u001b[39m), (\u001b[32m3\u001b[39m, \u001b[32m\"Three\"\u001b[39m))"
      ]
     },
     "execution_count": 7,
     "metadata": {},
     "output_type": "execute_result"
    }
   ],
   "source": [
    "val l1 = List(1,2,3)\n",
    "val l2 = List(\"One\",\"Two\",\"Three\")\n",
    "\n",
    "zipLists(l1, l2)"
   ]
  },
  {
   "cell_type": "code",
   "execution_count": 8,
   "metadata": {},
   "outputs": [
    {
     "data": {
      "text/plain": [
       "defined \u001b[32mfunction\u001b[39m \u001b[36mzipListsAPI\u001b[39m"
      ]
     },
     "execution_count": 8,
     "metadata": {},
     "output_type": "execute_result"
    }
   ],
   "source": [
    "// option 2 : using Scala APIs\n",
    "def zipListsAPI(l1 : List[Int], l2: List[String]): List[(Int, String)] = {\n",
    "    return l1 zip l2\n",
    "}"
   ]
  },
  {
   "cell_type": "markdown",
   "metadata": {},
   "source": []
  },
  {
   "cell_type": "code",
   "execution_count": 9,
   "metadata": {},
   "outputs": [
    {
     "data": {
      "text/plain": [
       "\u001b[36ml1\u001b[39m: \u001b[32mList\u001b[39m[\u001b[32mInt\u001b[39m] = \u001b[33mList\u001b[39m(\u001b[32m1\u001b[39m, \u001b[32m2\u001b[39m, \u001b[32m3\u001b[39m)\n",
       "\u001b[36ml2\u001b[39m: \u001b[32mList\u001b[39m[\u001b[32mString\u001b[39m] = \u001b[33mList\u001b[39m(\u001b[32m\"One\"\u001b[39m, \u001b[32m\"Two\"\u001b[39m, \u001b[32m\"Three\"\u001b[39m)\n",
       "\u001b[36mres8_2\u001b[39m: \u001b[32mList\u001b[39m[(\u001b[32mInt\u001b[39m, \u001b[32mString\u001b[39m)] = \u001b[33mList\u001b[39m((\u001b[32m1\u001b[39m, \u001b[32m\"One\"\u001b[39m), (\u001b[32m2\u001b[39m, \u001b[32m\"Two\"\u001b[39m), (\u001b[32m3\u001b[39m, \u001b[32m\"Three\"\u001b[39m))"
      ]
     },
     "execution_count": 9,
     "metadata": {},
     "output_type": "execute_result"
    }
   ],
   "source": [
    "val l1 = List(1,2,3)\n",
    "val l2 = List(\"One\",\"Two\",\"Three\")\n",
    "\n",
    "zipListsAPI(l1, l2)"
   ]
  },
  {
   "cell_type": "markdown",
   "metadata": {},
   "source": [
    "# Exercise 3\n",
    "\n",
    "Create a function to check below conditions given a variable and print appropriate message\n",
    "- If age < 12 print \"You are too young to watch the movie\"\n",
    "- If 12 < age < 18 print \"You can watch the movie with an adult\"\n",
    "- If 18 < age 60 print \"You're Good! Enjoy the movie\"\n",
    "- If age > 60 print \"Age is just a number, You can enjoy it too!\""
   ]
  },
  {
   "cell_type": "code",
   "execution_count": 10,
   "metadata": {},
   "outputs": [
    {
     "data": {
      "text/plain": [
       "defined \u001b[32mfunction\u001b[39m \u001b[36mcheckAgeAtTheatre\u001b[39m"
      ]
     },
     "execution_count": 10,
     "metadata": {},
     "output_type": "execute_result"
    }
   ],
   "source": [
    "def checkAgeAtTheatre(age : Int): Unit = {\n",
    "    if (age < 12) { \n",
    "        println(\"You are too young to watch the movie\")\n",
    "    } else if (age >12 & age < 18) {\n",
    "        println(\"You can watch the movie with an adult\")\n",
    "    } else if (age > 18 & age < 60) {\n",
    "        println(\"You're Good! Enjoy the movie\")\n",
    "    } else {\n",
    "        println(\"Age is just a number, You can enjoy it too!\")\n",
    "    }\n",
    "}"
   ]
  },
  {
   "cell_type": "code",
   "execution_count": 11,
   "metadata": {},
   "outputs": [
    {
     "name": "stdout",
     "output_type": "stream",
     "text": [
      "You are too young to watch the movie\n",
      "You can watch the movie with an adult\n",
      "You're Good! Enjoy the movie\n",
      "Age is just a number, You can enjoy it too!\n"
     ]
    }
   ],
   "source": [
    "checkAgeAtTheatre(11)\n",
    "checkAgeAtTheatre(14)\n",
    "checkAgeAtTheatre(20)\n",
    "checkAgeAtTheatre(65)"
   ]
  },
  {
   "cell_type": "code",
   "execution_count": 11,
   "metadata": {},
   "outputs": [
    {
     "name": "stderr",
     "output_type": "stream",
     "text": [
      "cmd11.sc:1: type mismatch;\n",
      " found   : Double(4.5)\n",
      " required: Int\n",
      "val res11 = checkAgeAtTheatre(4.5) // This is not acceptable in Scala\n",
      "                              ^Compilation Failed"
     ]
    },
    {
     "ename": "",
     "evalue": "",
     "output_type": "error",
     "traceback": [
      "Compilation Failed"
     ]
    }
   ],
   "source": [
    "checkAgeAtTheatre(4.5) // This is not acceptable in Scala"
   ]
  },
  {
   "cell_type": "markdown",
   "metadata": {},
   "source": [
    "# A flavour of Scala Class\n",
    "Let's create a restaurent menu and have a method for customers to order"
   ]
  },
  {
   "cell_type": "code",
   "execution_count": 12,
   "metadata": {},
   "outputs": [
    {
     "data": {
      "text/plain": [
       "defined \u001b[32mclass\u001b[39m \u001b[36mRestaurentOrder\u001b[39m"
      ]
     },
     "execution_count": 12,
     "metadata": {},
     "output_type": "execute_result"
    }
   ],
   "source": [
    "/* Classes can have methods inside them */\n",
    "class RestaurentOrder() {\n",
    "    //available items\n",
    "    var MenuItems = List(\"Chicken Picata\",\"Butter Chicken\", \"Lasagna\", \"Cheese Burger\")\n",
    "    var Stock = List((\"Chicken Picata\", 3, 20),(\"Butter Chicken\", 4, 25), (\"Lasagna\", 5, 15), (\"Cheese Burger\", 10, 18))\n",
    "    \n",
    "    def Order(name: String, spiceLevel: String, quantity: Int) = {\n",
    "        /* Print the order */\n",
    "        \n",
    "        var id : Int = -99\n",
    "        for ( x <- 0 until MenuItems.length){\n",
    "            if (MenuItems(x) == name) {\n",
    "               id = x\n",
    "            }\n",
    "        }\n",
    "        if (id == -99) {\n",
    "            println(\"Item not found\")\n",
    "        }\n",
    "        \n",
    "        var total = quantity * Stock(id)._3\n",
    "        \n",
    "        var newQuantity = Stock(id)._2 - quantity\n",
    "        Stock = Stock.updated(id, (name, newQuantity, Stock(id)._3))\n",
    "        \n",
    "        println(s\"You ordered ${name}, with spice level ${spiceLevel} and ${quantity} plates\")\n",
    "        println(s\"Your Bill is ${total} dollars\")\n",
    "        println(s\"New Stock for ${name} is ${Stock(id)._2}\")\n",
    "        \n",
    "    }    \n",
    "}\n"
   ]
  },
  {
   "cell_type": "code",
   "execution_count": 13,
   "metadata": {},
   "outputs": [
    {
     "name": "stdout",
     "output_type": "stream",
     "text": [
      "You ordered Chicken Picata, with spice level Medium and 1 plates\n",
      "Your Bill is 20 dollars\n",
      "New Stock for Chicken Picata is 2\n"
     ]
    },
    {
     "data": {
      "text/plain": [
       "\u001b[36mrestOrder\u001b[39m: \u001b[32mRestaurentOrder\u001b[39m = ammonite.$sess.cmd11$Helper$RestaurentOrder@2e380072"
      ]
     },
     "execution_count": 13,
     "metadata": {},
     "output_type": "execute_result"
    }
   ],
   "source": [
    "val restOrder = new RestaurentOrder()\n",
    "restOrder.Order(\"Chicken Picata\", \"Medium\", 1)"
   ]
  },
  {
   "cell_type": "code",
   "execution_count": 14,
   "metadata": {},
   "outputs": [
    {
     "name": "stdout",
     "output_type": "stream",
     "text": [
      "You ordered Butter Chicken, with spice level High and 2 plates\n",
      "Your Bill is 50 dollars\n",
      "New Stock for Butter Chicken is 2\n"
     ]
    }
   ],
   "source": [
    "restOrder.Order(\"Butter Chicken\", \"High\", 2)"
   ]
  },
  {
   "cell_type": "code",
   "execution_count": 15,
   "metadata": {},
   "outputs": [
    {
     "name": "stdout",
     "output_type": "stream",
     "text": [
      "You ordered Butter Chicken, with spice level High and 1 plates\n",
      "Your Bill is 25 dollars\n",
      "New Stock for Butter Chicken is 1\n"
     ]
    }
   ],
   "source": [
    "restOrder.Order(\"Butter Chicken\", \"High\", 1)"
   ]
  },
  {
   "cell_type": "code",
   "execution_count": null,
   "metadata": {},
   "outputs": [],
   "source": []
  }
 ],
 "metadata": {
  "interpreter": {
   "hash": "29d1c4f3314b17a47882b5b1f738f018f777688f1889acb81b9fe0a2339dc6b8"
  },
  "kernelspec": {
   "display_name": "Scala",
   "language": "python",
   "name": "python3"
  },
  "language_info": {
   "codemirror_mode": {
    "name": "ipython",
    "version": 3
   },
   "file_extension": ".py",
   "mimetype": "text/x-python",
   "name": "python",
   "nbconvert_exporter": "python",
   "pygments_lexer": "ipython3",
   "version": "3.9.7"
  }
 },
 "nbformat": 4,
 "nbformat_minor": 4
}
