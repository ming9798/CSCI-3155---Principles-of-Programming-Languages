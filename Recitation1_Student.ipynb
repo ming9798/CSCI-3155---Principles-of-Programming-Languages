{
 "cells": [
  {
   "cell_type": "markdown",
   "metadata": {},
   "source": [
    "# Recitation Week 1\n",
    "\n",
    " In this recitation, we will focus on familiarizing you with Scala Basics. We will work with loops, variables, conditionals, classes. We will walk through a few example exercises and solve them in class."
   ]
  },
  {
   "cell_type": "markdown",
   "metadata": {},
   "source": [
    "## Exercise 1\n",
    "\n",
    "Given two strings, check if one is the reverse of the other. Return True if they are, False otherwise."
   ]
  },
  {
   "cell_type": "code",
   "execution_count": 56,
   "metadata": {},
   "outputs": [
    {
     "data": {
      "text/plain": [
       "defined \u001b[32mfunction\u001b[39m \u001b[36mcheckReversed\u001b[39m"
      ]
     },
     "execution_count": 56,
     "metadata": {},
     "output_type": "execute_result"
    }
   ],
   "source": [
    "def checkReversed(s1: String, s2: String): Boolean = {\n",
    "    // option 1: Using Foor Loop\n",
    "    \n",
    "    var s1Len = ???\n",
    "        ???\n",
    "}"
   ]
  },
  {
   "cell_type": "code",
   "execution_count": 58,
   "metadata": {},
   "outputs": [
    {
     "name": "stdout",
     "output_type": "stream",
     "text": [
      "alacs\n"
     ]
    },
    {
     "data": {
      "text/plain": [
       "\u001b[36mres57\u001b[39m: \u001b[32mBoolean\u001b[39m = true"
      ]
     },
     "execution_count": 58,
     "metadata": {},
     "output_type": "execute_result"
    }
   ],
   "source": [
    "checkReversed(\"scala\", \"alacs\")"
   ]
  },
  {
   "cell_type": "code",
   "execution_count": 59,
   "metadata": {},
   "outputs": [
    {
     "data": {
      "text/plain": [
       "defined \u001b[32mfunction\u001b[39m \u001b[36mcheckReversedAPI\u001b[39m"
      ]
     },
     "execution_count": 59,
     "metadata": {},
     "output_type": "execute_result"
    }
   ],
   "source": [
    "// option 2: Using Scala API\n",
    "def checkReversedAPI(s1: String, s2: String): Boolean = {\n",
    "    ???\n",
    "}"
   ]
  },
  {
   "cell_type": "code",
   "execution_count": 60,
   "metadata": {},
   "outputs": [
    {
     "data": {
      "text/plain": [
       "\u001b[36mres59_0\u001b[39m: \u001b[32mBoolean\u001b[39m = true\n",
       "\u001b[36mres59_1\u001b[39m: \u001b[32mBoolean\u001b[39m = false"
      ]
     },
     "execution_count": 60,
     "metadata": {},
     "output_type": "execute_result"
    }
   ],
   "source": [
    "checkReversedAPI(\"scala\", \"alacs\")\n",
    "checkReversedAPI(\"ppl\", \"llp\")"
   ]
  },
  {
   "cell_type": "markdown",
   "metadata": {},
   "source": [
    "# Exercise 2\n",
    "\n",
    " Given a list of Integers and another list of Strings, combine (or zip) the two lists into a single list of pair Integer and String. For simplicity, assume the lengths of the two lists are equal."
   ]
  },
  {
   "cell_type": "code",
   "execution_count": 40,
   "metadata": {},
   "outputs": [
    {
     "data": {
      "text/plain": [
       "defined \u001b[32mfunction\u001b[39m \u001b[36mzipLists\u001b[39m"
      ]
     },
     "execution_count": 40,
     "metadata": {},
     "output_type": "execute_result"
    }
   ],
   "source": [
    "def zipLists(l1 : List[Int], l2: List[String]): List[(Int, String)] = {\n",
    "    // option 1 : using loop\n",
    "    ???\n",
    "    }\n",
    "}"
   ]
  },
  {
   "cell_type": "code",
   "execution_count": 41,
   "metadata": {},
   "outputs": [
    {
     "data": {
      "text/plain": [
       "\u001b[36mx\u001b[39m: \u001b[32mList\u001b[39m[(\u001b[32mInt\u001b[39m, \u001b[32mInt\u001b[39m)] = \u001b[33mList\u001b[39m((\u001b[32m1\u001b[39m, \u001b[32m2\u001b[39m))"
      ]
     },
     "execution_count": 41,
     "metadata": {},
     "output_type": "execute_result"
    }
   ],
   "source": [
    "val x : List[(Int, Int)] = List((1, 2)) // example of creating a new list"
   ]
  },
  {
   "cell_type": "code",
   "execution_count": 48,
   "metadata": {},
   "outputs": [
    {
     "name": "stdout",
     "output_type": "stream",
     "text": [
      "List((1,One), (2,Two), (3,Three))\n",
      "List((1,One), (2,Two), (3,Three))\n"
     ]
    },
    {
     "data": {
      "text/plain": [
       "\u001b[36ml1\u001b[39m: \u001b[32mList\u001b[39m[\u001b[32mInt\u001b[39m] = \u001b[33mList\u001b[39m(\u001b[32m1\u001b[39m, \u001b[32m2\u001b[39m, \u001b[32m3\u001b[39m)\n",
       "\u001b[36ml2\u001b[39m: \u001b[32mList\u001b[39m[\u001b[32mString\u001b[39m] = \u001b[33mList\u001b[39m(\u001b[32m\"One\"\u001b[39m, \u001b[32m\"Two\"\u001b[39m, \u001b[32m\"Three\"\u001b[39m)\n",
       "\u001b[36mres47_2\u001b[39m: \u001b[32mList\u001b[39m[(\u001b[32mInt\u001b[39m, \u001b[32mString\u001b[39m)] = \u001b[33mList\u001b[39m((\u001b[32m1\u001b[39m, \u001b[32m\"One\"\u001b[39m), (\u001b[32m2\u001b[39m, \u001b[32m\"Two\"\u001b[39m), (\u001b[32m3\u001b[39m, \u001b[32m\"Three\"\u001b[39m))"
      ]
     },
     "execution_count": 48,
     "metadata": {},
     "output_type": "execute_result"
    }
   ],
   "source": [
    "val l1 = List(1,2,3)\n",
    "val l2 = List(\"One\",\"Two\",\"Three\")\n",
    "\n",
    "zipLists(l1, l2)"
   ]
  },
  {
   "cell_type": "code",
   "execution_count": 49,
   "metadata": {},
   "outputs": [
    {
     "data": {
      "text/plain": [
       "defined \u001b[32mfunction\u001b[39m \u001b[36mzipListsAPI\u001b[39m"
      ]
     },
     "execution_count": 49,
     "metadata": {},
     "output_type": "execute_result"
    }
   ],
   "source": [
    "// option 2 : using Scala APIs\n",
    "\n",
    "def zipListsAPI(l1 : List[Int], l2: List[String]): List[(Int, String)] = {\n",
    "    ???\n",
    "}"
   ]
  },
  {
   "cell_type": "code",
   "execution_count": 51,
   "metadata": {},
   "outputs": [
    {
     "data": {
      "text/plain": [
       "\u001b[36ml1\u001b[39m: \u001b[32mList\u001b[39m[\u001b[32mInt\u001b[39m] = \u001b[33mList\u001b[39m(\u001b[32m1\u001b[39m, \u001b[32m2\u001b[39m, \u001b[32m3\u001b[39m)\n",
       "\u001b[36ml2\u001b[39m: \u001b[32mList\u001b[39m[\u001b[32mString\u001b[39m] = \u001b[33mList\u001b[39m(\u001b[32m\"One\"\u001b[39m, \u001b[32m\"Two\"\u001b[39m, \u001b[32m\"Three\"\u001b[39m)\n",
       "\u001b[36mres50_2\u001b[39m: \u001b[32mList\u001b[39m[(\u001b[32mInt\u001b[39m, \u001b[32mString\u001b[39m)] = \u001b[33mList\u001b[39m((\u001b[32m1\u001b[39m, \u001b[32m\"One\"\u001b[39m), (\u001b[32m2\u001b[39m, \u001b[32m\"Two\"\u001b[39m), (\u001b[32m3\u001b[39m, \u001b[32m\"Three\"\u001b[39m))"
      ]
     },
     "execution_count": 51,
     "metadata": {},
     "output_type": "execute_result"
    }
   ],
   "source": [
    "val l1 = List(1,2,3)\n",
    "val l2 = List(\"One\",\"Two\",\"Three\")\n",
    "\n",
    "zipListsAPI(l1, l2)"
   ]
  },
  {
   "cell_type": "markdown",
   "metadata": {},
   "source": [
    "# Exercise 3\n",
    "\n",
    "Create a function to check below conditions given a variable and print appropriate message\n",
    "- If age < 12 print \"You are too young to watch the movie\"\n",
    "- If 12 < age < 18 print \"You can watch the movie with an adult\"\n",
    "- If 18 < age 60 print \"You're Good! Enjoy the movie\"\n",
    "- If age > 60 print \"Age is just a number, You can enjoy it too!\""
   ]
  },
  {
   "cell_type": "code",
   "execution_count": 52,
   "metadata": {},
   "outputs": [
    {
     "data": {
      "text/plain": [
       "defined \u001b[32mfunction\u001b[39m \u001b[36mcheckAgeAtTheatre\u001b[39m"
      ]
     },
     "execution_count": 52,
     "metadata": {},
     "output_type": "execute_result"
    }
   ],
   "source": [
    "def checkAgeAtTheatre(age : Int): Unit = {\n",
    "    ???\n",
    "}"
   ]
  },
  {
   "cell_type": "code",
   "execution_count": 53,
   "metadata": {},
   "outputs": [
    {
     "name": "stdout",
     "output_type": "stream",
     "text": [
      "You are too young to watch the movie\n",
      "You can watch the movie with an adult\n",
      "You're Good! Enjoy the movie\n",
      "Age is just a number, You can enjoy it too!\n"
     ]
    }
   ],
   "source": [
    "checkAgeAtTheatre(11)\n",
    "checkAgeAtTheatre(14)\n",
    "checkAgeAtTheatre(20)\n",
    "checkAgeAtTheatre(65)"
   ]
  },
  {
   "cell_type": "code",
   "execution_count": 53,
   "metadata": {},
   "outputs": [
    {
     "name": "stderr",
     "output_type": "stream",
     "text": [
      "cmd53.sc:1: type mismatch;\n",
      " found   : Double(4.5)\n",
      " required: Int\n",
      "val res53 = checkAgeAtTheatre(4.5) // This is not acceptable in Scala\n",
      "                              ^Compilation Failed"
     ]
    },
    {
     "ename": "",
     "evalue": "",
     "output_type": "error",
     "traceback": [
      "Compilation Failed"
     ]
    }
   ],
   "source": [
    "checkAgeAtTheatre(4.5) // This is not acceptable in Scala\n",
    "???"
   ]
  },
  {
   "cell_type": "markdown",
   "metadata": {},
   "source": [
    "# A flavour of Scala Class\n",
    "Let's create a restaurent menu and have a method for customers to order"
   ]
  },
  {
   "cell_type": "code",
   "execution_count": 43,
   "metadata": {},
   "outputs": [
    {
     "data": {
      "text/plain": [
       "defined \u001b[32mclass\u001b[39m \u001b[36mRestaurentOrder\u001b[39m"
      ]
     },
     "execution_count": 43,
     "metadata": {},
     "output_type": "execute_result"
    }
   ],
   "source": [
    "/* Classes can have methods inside them */\n",
    "class RestaurentOrder() {\n",
    "    //available items\n",
    "    var MenuItems = List(\"Chicken Picata\",\"Butter Chicken\", \"Lasagna\", \"Cheese Burger\")\n",
    "    var Stock = List((\"Chicken Picata\", 3, 20),(\"Butter Chicken\", 4, 25), (\"Lasagna\", 5, 15), (\"Cheese Burger\", 10, 18))\n",
    "    \n",
    "    def Order(name: String, spiceLevel: String, quantity: Int) = {\n",
    "        /* Print the order */\n",
    "        \n",
    "        var id : Int = -99\n",
    "        ???\n",
    "        \n",
    "        var total = ???\n",
    "        \n",
    "        var newQuantity = ???\n",
    "        ???\n",
    "        \n",
    "        println(s\"You ordered ${name}, with spice level ${spiceLevel} and ${quantity} plates\")\n",
    "        println(s\"Your Bill is ${total} dollars\")\n",
    "        println(s\"New Stock for ${name} is ${Stock(id)._2}\")\n",
    "        \n",
    "    }    \n",
    "}\n"
   ]
  },
  {
   "cell_type": "code",
   "execution_count": 37,
   "metadata": {},
   "outputs": [
    {
     "name": "stdout",
     "output_type": "stream",
     "text": [
      "You ordered Chicken Picata, with spice level Medium and 1 plates\n",
      "Your Bill is 20 dollars\n",
      "New Stock for Chicken Picata is 2\n"
     ]
    },
    {
     "data": {
      "text/plain": [
       "\u001b[36mrestOrder\u001b[39m: \u001b[32mRestaurentOrder\u001b[39m = ammonite.$sess.cmd35$Helper$RestaurentOrder@11c31ba3"
      ]
     },
     "execution_count": 37,
     "metadata": {},
     "output_type": "execute_result"
    }
   ],
   "source": [
    "val restOrder = new RestaurentOrder()\n",
    "restOrder.Order(\"Chicken Picata\", \"Medium\", 1)"
   ]
  },
  {
   "cell_type": "code",
   "execution_count": 38,
   "metadata": {},
   "outputs": [
    {
     "name": "stdout",
     "output_type": "stream",
     "text": [
      "You ordered Butter Chicken, with spice level High and 2 plates\n",
      "Your Bill is 50 dollars\n",
      "New Stock for Butter Chicken is 2\n"
     ]
    }
   ],
   "source": [
    "restOrder.Order(\"Butter Chicken\", \"High\", 2)"
   ]
  },
  {
   "cell_type": "code",
   "execution_count": 39,
   "metadata": {},
   "outputs": [
    {
     "name": "stdout",
     "output_type": "stream",
     "text": [
      "You ordered Butter Chicken, with spice level High and 1 plates\n",
      "Your Bill is 25 dollars\n",
      "New Stock for Butter Chicken is 1\n"
     ]
    }
   ],
   "source": [
    "restOrder.Order(\"Butter Chicken\", \"High\", 1)"
   ]
  },
  {
   "cell_type": "code",
   "execution_count": null,
   "metadata": {},
   "outputs": [],
   "source": []
  }
 ],
 "metadata": {
  "kernelspec": {
   "display_name": "Scala",
   "language": "scala",
   "name": "scala"
  },
  "language_info": {
   "codemirror_mode": "text/x-scala",
   "file_extension": ".sc",
   "mimetype": "text/x-scala",
   "name": "scala",
   "nbconvert_exporter": "script",
   "version": "2.13.3"
  }
 },
 "nbformat": 4,
 "nbformat_minor": 4
}
