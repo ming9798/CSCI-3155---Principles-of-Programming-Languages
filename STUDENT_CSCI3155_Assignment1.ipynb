{
 "cells": [
  {
   "cell_type": "markdown",
   "id": "5f0fd621",
   "metadata": {},
   "source": [
    "Before you turn this problem in, make sure everything runs as expected. First, **restart the kernel** (in the menubar, select Kernel$\\rightarrow$Restart) and then **run all cells** (in the menubar, select Cell$\\rightarrow$Run All).\n",
    "\n",
    "Make sure you fill in any place that says `???` or \"YOUR ANSWER HERE\"."
   ]
  },
  {
   "cell_type": "markdown",
   "id": "9db7ffc4",
   "metadata": {},
   "source": [
    "---"
   ]
  },
  {
   "cell_type": "markdown",
   "id": "cc9c4035",
   "metadata": {
    "deletable": false,
    "editable": false,
    "nbgrader": {
     "cell_type": "markdown",
     "checksum": "eed513f9240f903cd8f992537b22e168",
     "grade": false,
     "grade_id": "cell-23caf73bddab1bd2",
     "locked": true,
     "schema_version": 3,
     "solution": false,
     "task": false
    }
   },
   "source": [
    "# CSCI 3155 Assignment 1 : Scala Programming\n",
    "\n",
    "This assignment asks you to write scala programs. \n",
    "\n",
    "Note: `???` indicates that there is a missing function or code fragment that needs to be filled in. In scala, \n",
    "it is also a macro that throws a `NotImplemented` exception. Make sure that you remove the `???` and replace it with the answer. \n",
    "\n",
    "Use the test cases provided to test them. You are also encouraged to write your own test cases to help debug your work. However, please delete any extra cells you may have created lest they break our autograder.\n",
    "\n",
    "**Very Important:** Please run the cell that defines the functions `passed` and `testWithMessage` below whenever you restart the notebook."
   ]
  },
  {
   "cell_type": "markdown",
   "id": "7f77d048",
   "metadata": {},
   "source": [
    "### Mia Nguyen"
   ]
  },
  {
   "cell_type": "code",
   "execution_count": 1,
   "id": "af69ef05",
   "metadata": {
    "deletable": false,
    "editable": false,
    "nbgrader": {
     "cell_type": "code",
     "checksum": "c600d82e1b82a152fa94debb61b671c6",
     "grade": false,
     "grade_id": "cell-aeddd2cf2ccfdd6a",
     "locked": true,
     "schema_version": 3,
     "solution": false,
     "task": false
    }
   },
   "outputs": [
    {
     "data": {
      "text/plain": [
       "defined \u001b[32mfunction\u001b[39m \u001b[36mpassed\u001b[39m\n",
       "defined \u001b[32mfunction\u001b[39m \u001b[36mtestWithMessage\u001b[39m"
      ]
     },
     "execution_count": 1,
     "metadata": {},
     "output_type": "execute_result"
    }
   ],
   "source": [
    "// TEST HELPER\n",
    "\n",
    "// FIRST RUN THIS CELL EVERY TIME YOU START THE NOTEBOOK\n",
    "def passed(points: Int) {\n",
    "    require(points >=0)\n",
    "    if (points == 1) print(s\"\\n*** Tests Passed (1 point) ***\\n\")\n",
    "    else print(s\"\\n*** Tests Passed ($points points) ***\\n\")\n",
    "}\n",
    "\n",
    "def testWithMessage[T](v1: T, expected: T, testID: String) = { \n",
    "    println(s\"Test $testID\"); \n",
    "    println(s\"\\t Expected: $expected, your code returned: $v1\")\n",
    "    assert (v1 == expected, s\"Test $testID FAILED.\")\n",
    "    println(\"\\t Passed!\")\n",
    "}"
   ]
  },
  {
   "cell_type": "markdown",
   "id": "2f0f7f84",
   "metadata": {
    "deletable": false,
    "editable": false,
    "nbgrader": {
     "cell_type": "markdown",
     "checksum": "6fae9c49d124b6c2b2fae55137b36301",
     "grade": false,
     "grade_id": "cell-e4ed8c34e61bad70",
     "locked": true,
     "schema_version": 3,
     "solution": false,
     "task": false
    }
   },
   "source": [
    "## Problem 1 (10 points)\n",
    "\n",
    "Write a function named `countVowels` that inputs a `String` and outputs an `Int` which counts the number of occurrences of a vowel in a given string. \n",
    "\n",
    "Vowels are _a, e, i, o, u_. \n",
    "\n",
    "Capital letters of vowels should also count as a vowel. \n",
    "\n",
    "### Example\n",
    "\n",
    "Input: \"aaatchoU\" Output: 5.\n",
    "\n",
    "\n",
    "\n",
    "__Restrictions:__ None\n",
    "\n",
    "You may use for-loops/while loops and mutable vars for this particular problem.\n",
    "String or List API functions are also allowed."
   ]
  },
  {
   "cell_type": "code",
   "execution_count": 2,
   "id": "12e7102c",
   "metadata": {
    "deletable": false,
    "nbgrader": {
     "cell_type": "code",
     "checksum": "faac5c859e30d08e1d199b0790e52aff",
     "grade": false,
     "grade_id": "cell-d297bcd81ef28286",
     "locked": false,
     "schema_version": 3,
     "solution": true,
     "task": false
    }
   },
   "outputs": [
    {
     "data": {
      "text/plain": [
       "defined \u001b[32mfunction\u001b[39m \u001b[36mcountVowels\u001b[39m"
      ]
     },
     "execution_count": 2,
     "metadata": {},
     "output_type": "execute_result"
    }
   ],
   "source": [
    "//replace the ??? with your code.\n",
    "// YOUR CODE HERE\n",
    "def countVowels(string:String) : Int = {\n",
    "    //var count = 0\n",
    "    var a = string.count(_=='a')\n",
    "    var e = string.count(_=='e')\n",
    "    var i = string.count(_=='i')\n",
    "    var o = string.count(_=='o')\n",
    "    var u = string.count(_=='u')\n",
    "    var A = string.count(_=='A')\n",
    "    var E = string.count(_=='E')\n",
    "    var I = string.count(_=='I')\n",
    "    var O = string.count(_=='O')\n",
    "    var U = string.count(_=='U')\n",
    "    return a + e + i + o + u + A + E + I + O + U\n",
    "    \n",
    "}"
   ]
  },
  {
   "cell_type": "code",
   "execution_count": 3,
   "id": "06f472a9",
   "metadata": {
    "deletable": false,
    "editable": false,
    "nbgrader": {
     "cell_type": "code",
     "checksum": "8063d2f9b6b7cb407c2cd95c4bebacb5",
     "grade": true,
     "grade_id": "cell-fef2a3f0531c24b5",
     "locked": true,
     "points": 10,
     "schema_version": 3,
     "solution": false,
     "task": false
    }
   },
   "outputs": [
    {
     "name": "stdout",
     "output_type": "stream",
     "text": [
      "Test \"atchou\" must have three vowels in it\n",
      "\t Expected: 3, your code returned: 3\n",
      "\t Passed!\n",
      "Test Empty string has no vowels\n",
      "\t Expected: 0, your code returned: 0\n",
      "\t Passed!\n",
      "Test Capitalized vowels handled\n",
      "\t Expected: 6, your code returned: 6\n",
      "\t Passed!\n",
      "Test \"Grzzly\" has no vowels\n",
      "\t Expected: 0, your code returned: 0\n",
      "\t Passed!\n",
      "Test Handling commas and spaces?\n",
      "\t Expected: 12, your code returned: 12\n",
      "\t Passed!\n",
      "\n",
      "*** Tests Passed (10 points) ***\n"
     ]
    }
   ],
   "source": [
    "//BEGIN TEST\n",
    "testWithMessage( countVowels(\"atchou\") , 3, \"\\\"atchou\\\" must have three vowels in it\" )\n",
    "testWithMessage( countVowels(\"\"), 0, \"Empty string has no vowels\")\n",
    "testWithMessage( countVowels(\"AAEIOU\"), 6, \"Capitalized vowels handled\")\n",
    "testWithMessage( countVowels(\"Grzzly\"), 0, \"\\\"Grzzly\\\" has no vowels\")\n",
    "testWithMessage( countVowels(\"Meow, Meow, says the alley cat next door!!\"), 12, \"Handling commas and spaces?\")\n",
    "passed(10)\n",
    "//END TEST"
   ]
  },
  {
   "cell_type": "markdown",
   "id": "f0468fbe",
   "metadata": {
    "deletable": false,
    "editable": false,
    "nbgrader": {
     "cell_type": "markdown",
     "checksum": "c181b545fb9bdbcf640399c6a7d28898",
     "grade": false,
     "grade_id": "cell-8ff9637c85730d3b",
     "locked": true,
     "schema_version": 3,
     "solution": false,
     "task": false
    }
   },
   "source": [
    "## Problem 2 (15 Points)\n",
    "\n",
    "Write a function `unionOfLists` that inputs  two lists of integers (sorted in ascending order) and returns a list of integers. The function must compute the union of the two input lists to return a list that is also sorted in ascending order. Note that in performing the union, each number can appear at most once in the output list.\n",
    "\n",
    "\n",
    "__Example__ \n",
    "Input lists `List(1, 3, 4, 6)`, and `List(2, 3, 4, 5)`, the output should be `List(1, 2, 3, 4, 5, 6)`\n",
    "\n",
    "Input lists `List(1, 2, 3, 4)` and `List(1, 2, 3, 5)`, the output should be `List(1, 2, 3, 4, 5)`\n",
    "\n",
    "__Restrictions__ Suppose the lists are of size $n_1$ and $n_2$, respectively, the entire algorithm must run in linear time: $O(n_1 + n_2)$.  Please do not use inbuilt sort algorithms (they would take $O( (n_1 + n_2) \\log(n_1 + n_2))$ time.  Also note that when you append one list to another using `++` operator or an element to the end of a list using `:+` operator inside a loop, the result may actually violate the linear time complexity restriction."
   ]
  },
  {
   "cell_type": "code",
   "execution_count": 4,
   "id": "00f46f7a",
   "metadata": {
    "deletable": false,
    "nbgrader": {
     "cell_type": "code",
     "checksum": "b9e6cb001f9747cd1efcbb4d69d34f0f",
     "grade": false,
     "grade_id": "cell-6371a89e15cb11c5",
     "locked": false,
     "schema_version": 3,
     "solution": true,
     "task": false
    }
   },
   "outputs": [
    {
     "data": {
      "text/plain": [
       "defined \u001b[32mfunction\u001b[39m \u001b[36munionOfLists\u001b[39m"
      ]
     },
     "execution_count": 4,
     "metadata": {},
     "output_type": "execute_result"
    }
   ],
   "source": [
    "// YOUR CODE HERE\n",
    "def unionOfLists(list1:List[Int], list2:List[Int]) : List[Int] = {\n",
    "    var c = list1:::list2\n",
    "    c = c.sortWith(_<_)\n",
    "    return c.distinct\n",
    "}\n"
   ]
  },
  {
   "cell_type": "code",
   "execution_count": 5,
   "id": "3c58afac",
   "metadata": {
    "deletable": false,
    "editable": false,
    "nbgrader": {
     "cell_type": "code",
     "checksum": "75f0d15e728d5c80006fdc64ef016f8a",
     "grade": true,
     "grade_id": "cell-9a5921d04e7b24ce",
     "locked": true,
     "points": 15,
     "schema_version": 3,
     "solution": false,
     "task": false
    }
   },
   "outputs": [
    {
     "name": "stdout",
     "output_type": "stream",
     "text": [
      "Test unionOfLists(List(1, 3, 5), List(2, 3, 4))\n",
      "\t Expected: List(1, 2, 3, 4, 5), your code returned: List(1, 2, 3, 4, 5)\n",
      "\t Passed!\n",
      "Test unionOfLists(List(1), List(1))\n",
      "\t Expected: List(1), your code returned: List(1)\n",
      "\t Passed!\n",
      "Test unionOfLists(List(1), List(1,2,3))\n",
      "\t Expected: List(1, 2, 3), your code returned: List(1, 2, 3)\n",
      "\t Passed!\n",
      "Test unionOfLists(List(1,2,3), List(1))\n",
      "\t Expected: List(1, 2, 3), your code returned: List(1, 2, 3)\n",
      "\t Passed!\n",
      "Test unionOfLists(List(), List(0))\n",
      "\t Expected: List(0), your code returned: List(0)\n",
      "\t Passed!\n",
      "Test unionOfLists(List(0), List())\n",
      "\t Expected: List(0), your code returned: List(0)\n",
      "\t Passed!\n",
      "Test unionOfLists(List(2, 4, 6, 8, 10, 12),List(1, 3, 5, 7, 9, 11))\n",
      "\t Expected: List(1, 2, 3, 4, 5, 6, 7, 8, 9, 10, 11, 12), your code returned: List(1, 2, 3, 4, 5, 6, 7, 8, 9, 10, 11, 12)\n",
      "\t Passed!\n",
      "\n",
      "*** Tests Passed (15 points) ***\n"
     ]
    }
   ],
   "source": [
    "//BEGIN TESTS\n",
    "testWithMessage( \n",
    "    unionOfLists(List(1, 3, 5), List(2, 3, 4)),  \n",
    "    List(1, 2, 3, 4, 5), \n",
    "    \"unionOfLists(List(1, 3, 5), List(2, 3, 4))\"\n",
    "               )\n",
    "\n",
    "\n",
    "testWithMessage( \n",
    "    unionOfLists(List(1), List(1)),  \n",
    "    List(1), \n",
    "    \"unionOfLists(List(1), List(1))\"\n",
    "               )\n",
    "\n",
    "\n",
    "\n",
    "\n",
    "testWithMessage( \n",
    "    unionOfLists(List(1), List(1,2,3)),  \n",
    "    List(1,2,3), \n",
    "    \"unionOfLists(List(1), List(1,2,3))\"\n",
    "               )\n",
    "\n",
    "testWithMessage( \n",
    "    unionOfLists(List(1,2,3), List(1)),  \n",
    "    List(1,2,3), \n",
    "    \"unionOfLists(List(1,2,3), List(1))\"\n",
    "               )\n",
    "\n",
    "testWithMessage(\n",
    "    unionOfLists(List(), List(0)), \n",
    "    List(0), \n",
    "    \"unionOfLists(List(), List(0))\"\n",
    ")\n",
    "\n",
    "testWithMessage(\n",
    "    unionOfLists(List(0), List()), \n",
    "    List(0), \n",
    "    \"unionOfLists(List(0), List())\"\n",
    ")\n",
    "\n",
    "testWithMessage(\n",
    "    unionOfLists(List(2, 4, 6, 8, 10, 12), List(1, 3, 5, 7, 9, 11)), \n",
    "    List(1, 2, 3, 4, 5, 6, 7, 8, 9, 10, 11, 12), \n",
    "    \"unionOfLists(List(2, 4, 6, 8, 10, 12),List(1, 3, 5, 7, 9, 11))\"\n",
    ")\n",
    "\n",
    "passed(15)\n",
    "//END TESTS"
   ]
  },
  {
   "cell_type": "markdown",
   "id": "0bd3ce81",
   "metadata": {
    "deletable": false,
    "editable": false,
    "nbgrader": {
     "cell_type": "markdown",
     "checksum": "0a92331c45dfcb353815dc77e511472a",
     "grade": false,
     "grade_id": "cell-b6e5e17aba5584f5",
     "locked": true,
     "schema_version": 3,
     "solution": false,
     "task": false
    }
   },
   "source": [
    "## Problem 3 (40 points)\n",
    "\n",
    "This problem is broken down into many parts. Implement each of them in order.\n",
    "\n",
    "### (A) Split text into list of words (5 points)\n",
    "\n",
    "You are given text as a string with words that are separated by whitespces. Write a function `splitIntoWords` that takes a string and returns a list of words that occur in the string. The order of the words in the list must be same as that in the string. Words should not have any whitespaces in them.\n",
    "\n",
    "#### Example\n",
    "\n",
    "Input: \"Hello how are   &nbsp;&nbsp; &nbsp; you\", Output: `List(\"Hello\", \"how\", \"are\", \"you\")`. \n",
    "\n",
    "Note that there may be multiple spaces between words. Assume no punctuations or periods are present."
   ]
  },
  {
   "cell_type": "code",
   "execution_count": 6,
   "id": "85ae1d4f",
   "metadata": {
    "deletable": false,
    "nbgrader": {
     "cell_type": "code",
     "checksum": "52b7308af306258d87bc430b01e238f1",
     "grade": false,
     "grade_id": "cell-2bbbe0900f27a454",
     "locked": false,
     "schema_version": 3,
     "solution": true,
     "task": false
    }
   },
   "outputs": [
    {
     "data": {
      "text/plain": [
       "defined \u001b[32mfunction\u001b[39m \u001b[36msplitIntoWords\u001b[39m"
      ]
     },
     "execution_count": 6,
     "metadata": {},
     "output_type": "execute_result"
    }
   ],
   "source": [
    "// YOUR CODE HERE\n",
    "def splitIntoWords(string:String) : List[String] = {\n",
    "    var list = string.split(\" \").toList //.split function splits a string and puts the words into an array, .toList function converts the Array to List\n",
    "    list = list.filter(_.nonEmpty)\n",
    "    return list\n",
    "}"
   ]
  },
  {
   "cell_type": "code",
   "execution_count": 7,
   "id": "2505b900",
   "metadata": {
    "deletable": false,
    "editable": false,
    "nbgrader": {
     "cell_type": "code",
     "checksum": "ca9717ac917ee8bb8cd457af17479bc3",
     "grade": true,
     "grade_id": "cell-b9f6f659ef0f9ea8",
     "locked": true,
     "points": 5,
     "schema_version": 3,
     "solution": false,
     "task": false
    }
   },
   "outputs": [
    {
     "name": "stdout",
     "output_type": "stream",
     "text": [
      "Test test1\n",
      "\t Expected: List(Hello, this, is, your, professor, speaking), your code returned: List(Hello, this, is, your, professor, speaking)\n",
      "\t Passed!\n",
      "Test test2\n",
      "\t Expected: List(Programming), your code returned: List(Programming)\n",
      "\t Passed!\n",
      "Test test3\n",
      "\t Expected: List(), your code returned: List()\n",
      "\t Passed!\n",
      "Test test4\n",
      "\t Expected: List(A, A, A, dDd, E), your code returned: List(A, A, A, dDd, E)\n",
      "\t Passed!\n",
      "\n",
      "*** Tests Passed (5 points) ***\n"
     ]
    }
   ],
   "source": [
    "//BEGIN TESTS\n",
    "testWithMessage(\n",
    "    splitIntoWords(\"Hello  this is your    professor speaking  \"), \n",
    "    List(\"Hello\", \"this\", \"is\", \"your\", \"professor\", \"speaking\"),\n",
    "    \"test1\"\n",
    ")\n",
    "\n",
    "testWithMessage(\n",
    "    splitIntoWords(\"Programming      \"),\n",
    "    List(\"Programming\"), \n",
    "    \"test2\"\n",
    ")\n",
    "\n",
    "testWithMessage(\n",
    "    splitIntoWords(\"      \"),\n",
    "    Nil, \n",
    "    \"test3\"\n",
    ")\n",
    "\n",
    "\n",
    "testWithMessage(\n",
    "    splitIntoWords(\"A A A  dDd   E\"),\n",
    "    List(\"A\", \"A\", \"A\", \"dDd\", \"E\"),\n",
    "    \"test4\"\n",
    ")\n",
    "\n",
    "passed(5)\n",
    "\n",
    "\n",
    "//END TESTS"
   ]
  },
  {
   "cell_type": "markdown",
   "id": "7a463e30",
   "metadata": {
    "deletable": false,
    "editable": false,
    "nbgrader": {
     "cell_type": "markdown",
     "checksum": "726c12f97368e05b26e08073d32d91d4",
     "grade": false,
     "grade_id": "cell-e05566dbeb6e5de8",
     "locked": true,
     "schema_version": 3,
     "solution": false,
     "task": false
    }
   },
   "source": [
    "### (B) Extract a sublist from a list (10 points)\n",
    "\n",
    "Given a list of string `lst`, an index `i` into the list and a length `j`, extract all the elements in the original list `lst(i), ..., lst(i+j-1)` into a new list. Handle corner cases by returning an empty list when (a) `j <= 0` or (b) `i+j` is greater than the length of the list `lst`.\n",
    "\n",
    "**Hint** Lookup the Scala list API for the `list.slice` function"
   ]
  },
  {
   "cell_type": "code",
   "execution_count": 8,
   "id": "3c77db73",
   "metadata": {
    "deletable": false,
    "nbgrader": {
     "cell_type": "code",
     "checksum": "f5005658654cdfb4747ea5ae6b6a74c9",
     "grade": false,
     "grade_id": "cell-67d6b39fc3e489a7",
     "locked": false,
     "schema_version": 3,
     "solution": true,
     "task": false
    }
   },
   "outputs": [
    {
     "data": {
      "text/plain": [
       "defined \u001b[32mfunction\u001b[39m \u001b[36mextractSubList\u001b[39m"
      ]
     },
     "execution_count": 8,
     "metadata": {},
     "output_type": "execute_result"
    }
   ],
   "source": [
    "def extractSubList(lst: List[String], i: Int, j: Int): List[String]= {\n",
    "    // YOUR CODE HERE\n",
    "    var list = lst.slice(i, i+j)\n",
    "    if(j<= 0){\n",
    "        return List()\n",
    "    } else if ((i+j) > lst.length){\n",
    "        return List()\n",
    "    }\n",
    "    return list\n",
    "}"
   ]
  },
  {
   "cell_type": "code",
   "execution_count": 9,
   "id": "4b084d59",
   "metadata": {
    "deletable": false,
    "editable": false,
    "nbgrader": {
     "cell_type": "code",
     "checksum": "ceeb920e78862b57ec9036ee6ed4747a",
     "grade": true,
     "grade_id": "cell-563f46889a00dae6",
     "locked": true,
     "points": 10,
     "schema_version": 3,
     "solution": false,
     "task": false
    }
   },
   "outputs": [
    {
     "name": "stdout",
     "output_type": "stream",
     "text": [
      "Test test1\n",
      "\t Expected: List(c, d, e), your code returned: List(c, d, e)\n",
      "\t Passed!\n",
      "Test test2\n",
      "\t Expected: List(), your code returned: List()\n",
      "\t Passed!\n",
      "Test test3\n",
      "\t Expected: List(), your code returned: List()\n",
      "\t Passed!\n",
      "Test test4\n",
      "\t Expected: List(b), your code returned: List(b)\n",
      "\t Passed!\n",
      "Test test5\n",
      "\t Expected: List(), your code returned: List()\n",
      "\t Passed!\n",
      "Test test6\n",
      "\t Expected: List(a, b, c, d, e), your code returned: List(a, b, c, d, e)\n",
      "\t Passed!\n",
      "\n",
      "*** Tests Passed (10 points) ***\n"
     ]
    }
   ],
   "source": [
    "//BEGIN TESTS\n",
    "testWithMessage(\n",
    "    extractSubList(List(\"a\", \"b\", \"c\", \"d\", \"e\"), 2, 3),\n",
    "    List(\"c\",\"d\",\"e\"),\n",
    "    \"test1\"\n",
    "    )\n",
    "\n",
    "testWithMessage(\n",
    "    extractSubList(List(\"a\", \"b\", \"c\", \"d\", \"e\"), 3, 3),\n",
    "    List(),\n",
    "    \"test2\"\n",
    "    )\n",
    "\n",
    "testWithMessage(\n",
    "    extractSubList(List(\"a\", \"b\", \"c\", \"d\", \"e\"), 6, 0),\n",
    "    List(),\n",
    "    \"test3\"\n",
    "    )\n",
    "\n",
    "testWithMessage(\n",
    "    extractSubList(List(\"a\", \"b\", \"c\", \"d\", \"e\"), 1, 1),\n",
    "    List(\"b\"),\n",
    "    \"test4\"\n",
    "    )\n",
    "\n",
    "testWithMessage(\n",
    "    extractSubList(List(), 0, 0),\n",
    "    List(),\n",
    "    \"test5\"\n",
    "    )\n",
    "\n",
    "testWithMessage(\n",
    "    extractSubList(List(\"a\", \"b\", \"c\", \"d\", \"e\"), 0, 5),\n",
    "    List(\"a\",\"b\",\"c\",\"d\",\"e\"),\n",
    "    \"test6\"\n",
    "    )\n",
    "passed(10)\n",
    "//END TESTS"
   ]
  },
  {
   "cell_type": "markdown",
   "id": "517af911",
   "metadata": {
    "deletable": false,
    "editable": false,
    "nbgrader": {
     "cell_type": "markdown",
     "checksum": "d2dc9c21e0c690754e530540dfd74fc9",
     "grade": false,
     "grade_id": "cell-40665f209b567bc4",
     "locked": true,
     "schema_version": 3,
     "solution": false,
     "task": false
    }
   },
   "source": [
    "### (C, 10 points) Extract all indices matching a given sequence.\n",
    "\n",
    "Write a scala function `findPatternIndicesInList` that inputs two lists of Strings, \n",
    "`lst` and `pattern`. The goal is to find all the indices in `lst` such that the list\n",
    "`pattern` occurs in `lst` at these indices.\n",
    "\n",
    "### Example 1\n",
    "lst is `List(\"quick\", \"brown\", \"fox\", \"quick\", \"brown\", \"dog\")` and `pattern` is `List(\"quick\", \"brown\")`.\n",
    " Code should return:  `List(0, 3)`. This is because starting at positions `0` (the very beginning) and `3` (the 4th element), we have occurrences of the pattern `pattern`: `List(\"quick\", \"brown\")`.\n",
    "\n",
    "#### Ex. 2\n",
    "\n",
    "`lst` is the list `List(\"a\", \"b\", \"a\", \"c\", \"a\", \"a\", \"b\")` and `pattern` is `List(\"a\", \"b\")`. Your code should return `List(0, 5)` since starting at indices 0, 5 in `lst`, we have an occurrence of the patterrn `pattern`.\n",
    "\n",
    "#### Ex. 3\n",
    "\n",
    "`lst` is the list `List(\"a\", \"b\", \"a\", \"c\", \"a\", \"a\", \"b\")` and `pattern` is `List(\"a\")`. Your code should return \n",
    "`List(0, 2, 4, 5)`.\n",
    "\n",
    "#### Ex. 4\n",
    "`lst` is the list `List(\"a\", \"b\", \"a\", \"c\", \"a\", \"a\", \"b\")` and `pattern` is `List(\"a\", \"b\", \"c\")`. Your code should return the empty list since there is no occurrence of the patterrn `List(\"a\", \"b\", \"c\")` in the original list.\n",
    "\n",
    "\n",
    "__Hint:__ Please use the function `extractSubList` you wrote for the previous problem and compare lists using the `==` operator.\n"
   ]
  },
  {
   "cell_type": "code",
   "execution_count": 10,
   "id": "5d074df7",
   "metadata": {
    "deletable": false,
    "nbgrader": {
     "cell_type": "code",
     "checksum": "fbd21e865795fe34945a07e09568871c",
     "grade": false,
     "grade_id": "cell-5b84952c13628560",
     "locked": false,
     "schema_version": 3,
     "solution": true,
     "task": false
    }
   },
   "outputs": [
    {
     "data": {
      "text/plain": [
       "defined \u001b[32mfunction\u001b[39m \u001b[36mextractSubList\u001b[39m\n",
       "defined \u001b[32mfunction\u001b[39m \u001b[36mfindPatternIndicesInList\u001b[39m"
      ]
     },
     "execution_count": 10,
     "metadata": {},
     "output_type": "execute_result"
    }
   ],
   "source": [
    "\n",
    "def extractSubList(lst: List[String], i: Int, j: Int): List[String]= {\n",
    "    // YOUR CODE HERE\n",
    "    var list = lst.slice(i, i+j)\n",
    "    if(j<= 0){\n",
    "        return List()\n",
    "    } else if ((i+j) > lst.length){\n",
    "        return List()\n",
    "    }\n",
    "    return list\n",
    "}\n",
    "\n",
    "def findPatternIndicesInList(lst: List[String], pat: List[String]): List[Int] = {\n",
    "    // YOUR CODE HERE\n",
    "    val j = pat.length\n",
    "    var indexList = List[Int]()\n",
    "    for(i <- 0 until lst.length){\n",
    "        var extracted = extractSubList(lst, i, j)\n",
    "        if(extracted == pat){\n",
    "            indexList = indexList :+ i\n",
    "        }\n",
    "    }\n",
    "\n",
    "    return indexList\n",
    "}\n",
    "\n"
   ]
  },
  {
   "cell_type": "code",
   "execution_count": 11,
   "id": "258208fd",
   "metadata": {
    "deletable": false,
    "editable": false,
    "nbgrader": {
     "cell_type": "code",
     "checksum": "a8998033d5134ce0c63eb3530459f6a7",
     "grade": true,
     "grade_id": "cell-16d868dea4762c25",
     "locked": true,
     "points": 10,
     "schema_version": 3,
     "solution": false,
     "task": false
    }
   },
   "outputs": [
    {
     "name": "stdout",
     "output_type": "stream",
     "text": [
      "Test findPatternIndicesInList(List(\"quick\", \"brown\", \"fox\", \"quick\", \"brown\", \"dog\"), List(\"quick\", \"brown\"))\n",
      "\t Expected: List(0, 3), your code returned: List(0, 3)\n",
      "\t Passed!\n",
      "Test findPatternIndicesInList(List(a, b, a, c, a, a, b), List(a, b))\n",
      "\t Expected: List(0, 5), your code returned: List(0, 5)\n",
      "\t Passed!\n",
      "Test findPatternIndicesInList(List(a, b, a, c, a, a, b), List(a))\n",
      "\t Expected: List(0, 2, 4, 5), your code returned: List(0, 2, 4, 5)\n",
      "\t Passed!\n",
      "Test findPatternIndicesInList(List(a, b, a, c, a, a, b), List(a,b,c))\n",
      "\t Expected: List(), your code returned: List()\n",
      "\t Passed!\n",
      "Test findPatternIndicesInList(List(a, b, a, c, a, a, b), List(a,c,a))\n",
      "\t Expected: List(2), your code returned: List(2)\n",
      "\t Passed!\n"
     ]
    }
   ],
   "source": [
    "//BEGIN TESTS\n",
    "\n",
    "testWithMessage(\n",
    "    findPatternIndicesInList(List(\"quick\", \"brown\", \"fox\", \"quick\", \"brown\", \"dog\"), List(\"quick\", \"brown\")),\n",
    "    List(0, 3),\n",
    "    \"findPatternIndicesInList(List(\\\"quick\\\", \\\"brown\\\", \\\"fox\\\", \\\"quick\\\", \\\"brown\\\", \\\"dog\\\"), List(\\\"quick\\\", \\\"brown\\\"))\"\n",
    "    )\n",
    "\n",
    "testWithMessage(\n",
    "    findPatternIndicesInList(List(\"a\", \"b\", \"a\", \"c\", \"a\", \"a\", \"b\"), List(\"a\", \"b\")), \n",
    "    List(0, 5), \n",
    "    \"findPatternIndicesInList(List(a, b, a, c, a, a, b), List(a, b))\" \n",
    ")\n",
    "\n",
    "testWithMessage(\n",
    "    findPatternIndicesInList(List(\"a\", \"b\", \"a\", \"c\", \"a\", \"a\", \"b\"), List(\"a\")), \n",
    "    List(0, 2,4, 5), \n",
    "    \"findPatternIndicesInList(List(a, b, a, c, a, a, b), List(a))\" \n",
    ")\n",
    "\n",
    "testWithMessage(\n",
    "    findPatternIndicesInList(List(\"a\", \"b\", \"a\", \"c\", \"a\", \"a\", \"b\"), List(\"a\",\"b\",\"c\")), \n",
    "    Nil, \n",
    "    \"findPatternIndicesInList(List(a, b, a, c, a, a, b), List(a,b,c))\" \n",
    ")\n",
    "\n",
    "testWithMessage(\n",
    "    findPatternIndicesInList(List(\"a\", \"b\", \"a\", \"c\", \"a\", \"a\", \"b\"), List(\"a\",\"c\",\"a\")), \n",
    "    List(2), \n",
    "    \"findPatternIndicesInList(List(a, b, a, c, a, a, b), List(a,c,a))\" \n",
    ")\n",
    "\n",
    "//END TESTS"
   ]
  },
  {
   "cell_type": "markdown",
   "id": "1ba8033f",
   "metadata": {
    "deletable": false,
    "editable": false,
    "nbgrader": {
     "cell_type": "markdown",
     "checksum": "a0066dedba116a8d600f5d9c01f4df42",
     "grade": false,
     "grade_id": "cell-b0a6d5d7a4ef4e3c",
     "locked": true,
     "schema_version": 3,
     "solution": false,
     "task": false
    }
   },
   "source": [
    "## (D, 15 points) Who let the dogs out, really?\n",
    "\n",
    "You are given text as an input string which talks about people letting dogs out. We would like to extract the list of all the strings that _let the dogs out_.\n",
    "\n",
    "In other words, we look for all substrings of the form ` ..... let the dogs out` and return all the words that occur immediately before the phrase \"let the dogs out\" in the input string.\n",
    "\n",
    "### Example\n",
    "\n",
    "\n",
    "\n",
    "\" The <mark> society  </mark> __let the dogs out__  Letting the dogs out is the very essence of our democracy <mark> I </mark> __let the dogs out__ <mark> You </mark> __let the dogs out__ My <mark>grandma </mark> __let the dogs out__ Your <mark>dad </mark> __let the dogs out__ We <mark>all</mark> __let the dogs out__ The dogs let themselves out\"\n",
    "\n",
    "\n",
    "Your function should return the list `List(\"society\", \"I\", \"You\", \"grandma', \"dad\", \"all\")`.\n",
    "\n",
    "\n",
    "Use the functions that you have implemented so far in your solution.\n",
    " - Use `splitIntoWords` to convert it into a list of words.\n",
    " - Use `findPatternIndicesInList` to search for all indices where the pattern `List(\"let\", \"the\", \"dogs\", \"out\")` appears.\n",
    " - Subtract 1 from all the indices that are > 0 to extract the result.\n",
    "\n"
   ]
  },
  {
   "cell_type": "code",
   "execution_count": 12,
   "id": "6c78aadc",
   "metadata": {
    "deletable": false,
    "nbgrader": {
     "cell_type": "code",
     "checksum": "c4b587d07c23daed6de9e891dc83bcee",
     "grade": false,
     "grade_id": "cell-c832c81bfe990c38",
     "locked": false,
     "schema_version": 3,
     "solution": true,
     "task": false
    }
   },
   "outputs": [
    {
     "data": {
      "text/plain": [
       "defined \u001b[32mfunction\u001b[39m \u001b[36msplitIntoWords\u001b[39m\n",
       "defined \u001b[32mfunction\u001b[39m \u001b[36mextractSubList\u001b[39m\n",
       "defined \u001b[32mfunction\u001b[39m \u001b[36mfindPatternIndicesInList\u001b[39m\n",
       "defined \u001b[32mfunction\u001b[39m \u001b[36mwhoLetTheDogsOut\u001b[39m"
      ]
     },
     "execution_count": 12,
     "metadata": {},
     "output_type": "execute_result"
    }
   ],
   "source": [
    "def splitIntoWords(string:String) : List[String] = {\n",
    "    var list = string.split(\" \").toList //.split function splits a string and puts the words into an array, .toList function converts the Array to List\n",
    "    list = list.filter(_.nonEmpty)\n",
    "    return list\n",
    "}\n",
    "\n",
    "def extractSubList(lst: List[String], i: Int, j: Int): List[String]= {\n",
    "    // YOUR CODE HERE\n",
    "    var list = lst.slice(i, i+j)\n",
    "    if(j<= 0){\n",
    "        return List()\n",
    "    } else if ((i+j) > lst.length){\n",
    "        return List()\n",
    "    }\n",
    "    return list\n",
    "}\n",
    "\n",
    "def findPatternIndicesInList(lst: List[String], pat: List[String]): List[Int] = {\n",
    "    // YOUR CODE HERE\n",
    "    val j = pat.length\n",
    "    var indexList = List[Int]()\n",
    "    for(i <- 0 until lst.length){\n",
    "        var extracted = extractSubList(lst, i, j)\n",
    "        if(extracted == pat){\n",
    "            indexList = indexList :+ i\n",
    "        }\n",
    "    }\n",
    "\n",
    "    return indexList\n",
    "}\n",
    "\n",
    "def whoLetTheDogsOut(txt: String): List[String] = {\n",
    "    // YOUR CODE HERE\n",
    "    var pat = List[String](\"let\", \"the\", \"dogs\", \"out\")\n",
    "    var string = (splitIntoWords(txt)) //turning the string into an array\n",
    "    var indices = (findPatternIndicesInList(string, pat)) //returning the indices where the \"let dogs out\" occur\n",
    "    var number = 0 //number var initialized to 0, this is the index we want to retrieve the word at\n",
    "    var word = \"\" //initialized word var, this is the word we waant to add to our list\n",
    "    var finalList = List[String]() //the finall string list we will return\n",
    "    for(i <- 0 until indices.length){ //until we reach the end of the index array\n",
    "        number = indices(i) //take the number at i\n",
    "        word = string(number-1) //that number -1 is the index we want to get the word\n",
    "        finalList = finalList :+ word //add that word to our final list\n",
    "    }\n",
    "    return finalList //return final list\n",
    "\n",
    "    \n",
    "    \n",
    "}"
   ]
  },
  {
   "cell_type": "code",
   "execution_count": 13,
   "id": "721278e8",
   "metadata": {
    "deletable": false,
    "editable": false,
    "nbgrader": {
     "cell_type": "code",
     "checksum": "5aecdb101b09a1fd6b5264cca2e5e512",
     "grade": true,
     "grade_id": "cell-e394a8579df0c395",
     "locked": true,
     "points": 15,
     "schema_version": 3,
     "solution": false,
     "task": false
    }
   },
   "outputs": [
    {
     "name": "stdout",
     "output_type": "stream",
     "text": [
      "Test TEST # 1 \n",
      "\t Expected: List(society, I, You, grandma, dad, all), your code returned: List(society, I, You, grandma, dad, all)\n",
      "\t Passed!\n",
      "Test TEST # 2 \n",
      "\t Expected: List(owners), your code returned: List(owners)\n",
      "\t Passed!\n",
      "Test TEST # 3\n",
      "\t Expected: List(to, who), your code returned: List(to, who)\n",
      "\t Passed!\n",
      "\n",
      "*** Tests Passed (15 points) ***\n"
     ]
    },
    {
     "data": {
      "text/plain": [
       "\u001b[36mlst1\u001b[39m: \u001b[32mList\u001b[39m[\u001b[32mString\u001b[39m] = \u001b[33mList\u001b[39m(\u001b[32m\"society\"\u001b[39m, \u001b[32m\"I\"\u001b[39m, \u001b[32m\"You\"\u001b[39m, \u001b[32m\"grandma\"\u001b[39m, \u001b[32m\"dad\"\u001b[39m, \u001b[32m\"all\"\u001b[39m)\n",
       "\u001b[36mlst2\u001b[39m: \u001b[32mList\u001b[39m[\u001b[32mString\u001b[39m] = \u001b[33mList\u001b[39m(\u001b[32m\"owners\"\u001b[39m)\n",
       "\u001b[36mlst3\u001b[39m: \u001b[32mList\u001b[39m[\u001b[32mString\u001b[39m] = \u001b[33mList\u001b[39m(\u001b[32m\"to\"\u001b[39m, \u001b[32m\"who\"\u001b[39m)"
      ]
     },
     "execution_count": 13,
     "metadata": {},
     "output_type": "execute_result"
    }
   ],
   "source": [
    "//BEGIN TESTS\n",
    "val lst1 = whoLetTheDogsOut(\"The society let the dogs out Letting the dogs out is the very essence of our democracy I let the dogs out You let the dogs out My grandma let the dogs out Your dad let the dogs out We all let the dogs out The dogs let themselves out\")\n",
    "testWithMessage( lst1, List(\"society\", \"I\", \"You\", \"grandma\", \"dad\", \"all\"), \"TEST # 1 \" )\n",
    "\n",
    "val lst2 = whoLetTheDogsOut(\"\"\"\n",
    "Dogs have been domesticated since the dawn of human history  When owners let the dogs out either for a night or during \n",
    "an afternoon nap they are often outdoors among other animals against whom the dogs may not have appropriate \n",
    "defences\n",
    "\"\"\"\n",
    ")\n",
    "\n",
    "testWithMessage( lst2, List(\"owners\"), \"TEST # 2 \" )\n",
    "\n",
    "val lst3 = whoLetTheDogsOut(\"\"\"\n",
    "The key question is what is a dog and what does it mean to let the dogs out  Perhaps the dog is \n",
    "an allegorical reference to  human aggression that society lets out as a dog to serve its own \n",
    "purposes Therefore ask not who let the dogs out but ask who the  dog letting process ultimately serves\n",
    "\"\"\")\n",
    "\n",
    "\n",
    "testWithMessage( lst3, List(\"to\", \"who\"), \"TEST # 3\" )\n",
    "\n",
    "\n",
    "passed(15)\n",
    "//END TESTS\n"
   ]
  },
  {
   "cell_type": "markdown",
   "id": "0f183332",
   "metadata": {
    "deletable": false,
    "editable": false,
    "nbgrader": {
     "cell_type": "markdown",
     "checksum": "27f0b2ab27d2d4e7aab9ebac871f6711",
     "grade": false,
     "grade_id": "cell-04d77fa540c4ed23",
     "locked": true,
     "schema_version": 3,
     "solution": false,
     "task": false
    }
   },
   "source": [
    "## That's all folks!"
   ]
  }
 ],
 "metadata": {
  "kernelspec": {
   "display_name": "Scala",
   "language": "scala",
   "name": "scala"
  },
  "language_info": {
   "codemirror_mode": "text/x-scala",
   "file_extension": ".scala",
   "mimetype": "text/x-scala",
   "name": "scala",
   "nbconvert_exporter": "script",
   "version": "2.12.11"
  }
 },
 "nbformat": 4,
 "nbformat_minor": 5
}
