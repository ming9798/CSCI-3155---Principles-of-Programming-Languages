{
 "cells": [
  {
   "cell_type": "markdown",
   "id": "ebbcac77",
   "metadata": {},
   "source": [
    "Scala: Programming language\n",
    "\"Scalable language\" : Functional Programming Language which is built on top\n",
    "of JVM\n",
    "\n",
    "Martin Odersky -- EPFL in Switzerland.\n",
    "\n",
    "Scala ---> JVM (bytecode)\n",
    "Interopertes with Java\n",
    "\n"
   ]
  },
  {
   "cell_type": "code",
   "execution_count": 1,
   "id": "e9be510b",
   "metadata": {},
   "outputs": [
    {
     "name": "stdout",
     "output_type": "stream",
     "text": [
      "Hello World!!\n",
      "of Scala\n"
     ]
    }
   ],
   "source": [
    "println(\"Hello World!!\") // println is builtin \n",
    "println(\"of Scala\")"
   ]
  },
  {
   "cell_type": "code",
   "execution_count": 4,
   "id": "92402a5a",
   "metadata": {},
   "outputs": [
    {
     "data": {
      "text/html": [
       "<div class=\"jp-RenderedText\">\n",
       "<pre><code><span style=\"color: rgb(0, 187, 187)\"><span class=\"ansi-cyan-fg\">x</span></span>: <span style=\"color: rgb(0, 187, 0)\"><span class=\"ansi-green-fg\">Int</span></span> = <span style=\"color: rgb(0, 187, 0)\"><span class=\"ansi-green-fg\">10</span></span>\n",
       "<span style=\"color: rgb(0, 187, 187)\"><span class=\"ansi-cyan-fg\">y</span></span>: <span style=\"color: rgb(0, 187, 0)\"><span class=\"ansi-green-fg\">String</span></span> = <span style=\"color: rgb(0, 187, 0)\"><span class=\"ansi-green-fg\">&quot;hello&quot;</span></span></code></pre>\n",
       "</div>"
      ],
      "text/plain": [
       "\u001b[36mx\u001b[39m: \u001b[32mInt\u001b[39m = \u001b[32m10\u001b[39m\n",
       "\u001b[36my\u001b[39m: \u001b[32mString\u001b[39m = \u001b[32m\"hello\"\u001b[39m"
      ]
     },
     "metadata": {},
     "output_type": "display_data"
    }
   ],
   "source": [
    "val x: Int = 10 // x is a const \n",
    "var y: String = \"hello\""
   ]
  },
  {
   "cell_type": "code",
   "execution_count": 3,
   "id": "aedf2223",
   "metadata": {},
   "outputs": [
    {
     "name": "stdout",
     "output_type": "stream",
     "text": [
      "11.3\n"
     ]
    }
   ],
   "source": [
    "y = y + 1\n",
    "println(y)"
   ]
  },
  {
   "cell_type": "code",
   "execution_count": 6,
   "id": "5752f22b",
   "metadata": {},
   "outputs": [
    {
     "data": {
      "text/plain": [
       "\u001b[36mX\u001b[39m: \u001b[32mInt\u001b[39m = \u001b[32m1\u001b[39m"
      ]
     },
     "execution_count": 6,
     "metadata": {},
     "output_type": "execute_result"
    }
   ],
   "source": [
    "// data : types in a scala program\n",
    "\n",
    "val x: Int = 1 // 32 bit integers"
   ]
  },
  {
   "cell_type": "code",
   "execution_count": 8,
   "id": "207eb327",
   "metadata": {},
   "outputs": [
    {
     "data": {
      "text/plain": [
       "\u001b[36my\u001b[39m: \u001b[32mLong\u001b[39m = \u001b[32m1L\u001b[39m"
      ]
     },
     "execution_count": 8,
     "metadata": {},
     "output_type": "execute_result"
    }
   ],
   "source": [
    "val y: Long = 1L // 64 bit integers"
   ]
  },
  {
   "cell_type": "code",
   "execution_count": 9,
   "id": "3dca623a",
   "metadata": {},
   "outputs": [
    {
     "data": {
      "text/plain": [
       "\u001b[36mz\u001b[39m: \u001b[32mDouble\u001b[39m = \u001b[32m1.2\u001b[39m"
      ]
     },
     "execution_count": 9,
     "metadata": {},
     "output_type": "execute_result"
    }
   ],
   "source": [
    "val z: Double = 1.2 // double precision nummbers"
   ]
  },
  {
   "cell_type": "code",
   "execution_count": 12,
   "id": "27c523ba",
   "metadata": {},
   "outputs": [
    {
     "data": {
      "text/plain": [
       "\u001b[36mf\u001b[39m: \u001b[32mFloat\u001b[39m = \u001b[32m1.5F\u001b[39m"
      ]
     },
     "execution_count": 12,
     "metadata": {},
     "output_type": "execute_result"
    }
   ],
   "source": [
    "val f: Float = 1.5F //floating point numbers"
   ]
  },
  {
   "cell_type": "code",
   "execution_count": 13,
   "id": "e79e7a33",
   "metadata": {},
   "outputs": [
    {
     "data": {
      "text/plain": [
       "\u001b[36my\u001b[39m: \u001b[32mString\u001b[39m = \u001b[32m\"Hello\"\u001b[39m"
      ]
     },
     "execution_count": 13,
     "metadata": {},
     "output_type": "execute_result"
    }
   ],
   "source": [
    "val y: String = \"Hello\""
   ]
  },
  {
   "cell_type": "code",
   "execution_count": 14,
   "id": "fc73b548",
   "metadata": {},
   "outputs": [
    {
     "data": {
      "text/plain": [
       "\u001b[36mz\u001b[39m: \u001b[32mChar\u001b[39m = \u001b[32m'c'\u001b[39m"
      ]
     },
     "execution_count": 14,
     "metadata": {},
     "output_type": "execute_result"
    }
   ],
   "source": [
    "val z: Char = 'c'"
   ]
  },
  {
   "cell_type": "code",
   "execution_count": 16,
   "id": "1b2f39bf",
   "metadata": {},
   "outputs": [
    {
     "data": {
      "text/plain": [
       "\u001b[36mx\u001b[39m: \u001b[32mInt\u001b[39m = \u001b[32m1\u001b[39m\n",
       "\u001b[36mres15_1\u001b[39m: \u001b[32mString\u001b[39m = \u001b[32m\"1\"\u001b[39m"
      ]
     },
     "execution_count": 16,
     "metadata": {},
     "output_type": "execute_result"
    }
   ],
   "source": [
    "val x : Int = 1\n"
   ]
  },
  {
   "cell_type": "code",
   "execution_count": 24,
   "id": "545a829b",
   "metadata": {},
   "outputs": [
    {
     "data": {
      "text/plain": [
       "\u001b[36mtup\u001b[39m: (\u001b[32mInt\u001b[39m, \u001b[32mString\u001b[39m) = (\u001b[32m2\u001b[39m, \u001b[32m\"two\"\u001b[39m)\n",
       "\u001b[36mtup3\u001b[39m: (\u001b[32mInt\u001b[39m, \u001b[32mString\u001b[39m, \u001b[32mDouble\u001b[39m) = (\u001b[32m3\u001b[39m, \u001b[32m\"three\"\u001b[39m, \u001b[32m3.0\u001b[39m)\n",
       "\u001b[36ma\u001b[39m: \u001b[32mInt\u001b[39m = \u001b[32m2\u001b[39m\n",
       "\u001b[36mb\u001b[39m: \u001b[32mString\u001b[39m = \u001b[32m\"two\"\u001b[39m\n",
       "\u001b[36mx\u001b[39m: \u001b[32mInt\u001b[39m = \u001b[32m3\u001b[39m\n",
       "\u001b[36my\u001b[39m: \u001b[32mString\u001b[39m = \u001b[32m\"three\"\u001b[39m\n",
       "\u001b[36mz\u001b[39m: \u001b[32mDouble\u001b[39m = \u001b[32m3.0\u001b[39m\n",
       "\u001b[36mtuptup\u001b[39m: ((\u001b[32mInt\u001b[39m, \u001b[32mString\u001b[39m), \u001b[32mChar\u001b[39m) = ((\u001b[32m1\u001b[39m, \u001b[32m\"One\"\u001b[39m), \u001b[32m'o'\u001b[39m)"
      ]
     },
     "execution_count": 24,
     "metadata": {},
     "output_type": "execute_result"
    }
   ],
   "source": [
    "val tup: (Int, String) = (2, \"two\")\n",
    "val tup3: (Int, String, Double) = (3, \"three\", 3.0)\n",
    "\n",
    "val (a, b) = tup // unpacking\n",
    "val (x, y, z) = tup3\n",
    "\n",
    "val tuptup: ( (Int, String), Char) = ((1, \"One\"), 'o')"
   ]
  },
  {
   "cell_type": "code",
   "execution_count": 30,
   "id": "20b5fc9d",
   "metadata": {},
   "outputs": [
    {
     "data": {
      "text/plain": [
       "\u001b[36mlst\u001b[39m: \u001b[32mList\u001b[39m[\u001b[32mInt\u001b[39m] = \u001b[33mList\u001b[39m(\u001b[32m1\u001b[39m, \u001b[32m2\u001b[39m, \u001b[32m3\u001b[39m, \u001b[32m4\u001b[39m, \u001b[32m5\u001b[39m, \u001b[32m6\u001b[39m, \u001b[32m7\u001b[39m, \u001b[32m8\u001b[39m, \u001b[32m9\u001b[39m)"
      ]
     },
     "execution_count": 30,
     "metadata": {},
     "output_type": "execute_result"
    }
   ],
   "source": [
    "val lst: List[Int] = List(1, 2, 3, 4, 5, 6, 7, 8, 9) // immutable"
   ]
  },
  {
   "cell_type": "code",
   "execution_count": 31,
   "id": "ca4dd83c",
   "metadata": {},
   "outputs": [
    {
     "data": {
      "text/plain": [
       "\u001b[36mlst_mashup\u001b[39m: \u001b[32mList\u001b[39m[\u001b[32mAny\u001b[39m] = \u001b[33mList\u001b[39m(\u001b[32m1\u001b[39m, \u001b[32m\"one\"\u001b[39m, \u001b[32m3\u001b[39m, \u001b[32m3.0F\u001b[39m, \u001b[32m'c'\u001b[39m)"
      ]
     },
     "execution_count": 31,
     "metadata": {},
     "output_type": "execute_result"
    }
   ],
   "source": [
    "val lst_mashup: List[Any] = List(1, \"one\", 3, 3.0F, 'c' )"
   ]
  },
  {
   "cell_type": "code",
   "execution_count": 47,
   "id": "2e643c48",
   "metadata": {},
   "outputs": [
    {
     "data": {
      "text/plain": [
       "\u001b[36mlst2\u001b[39m: \u001b[32mList\u001b[39m[\u001b[32mList\u001b[39m[\u001b[32mInt\u001b[39m]] = \u001b[33mList\u001b[39m(\u001b[33mList\u001b[39m(\u001b[32m1\u001b[39m, \u001b[32m2\u001b[39m), \u001b[33mList\u001b[39m(\u001b[32m3\u001b[39m, \u001b[32m4\u001b[39m))"
      ]
     },
     "execution_count": 47,
     "metadata": {},
     "output_type": "execute_result"
    }
   ],
   "source": [
    "val lst2: List[List[Int]] = List( List(1, 2), List(3, 4))"
   ]
  },
  {
   "cell_type": "code",
   "execution_count": 50,
   "id": "ac5890db",
   "metadata": {},
   "outputs": [
    {
     "data": {
      "text/plain": [
       "\u001b[36mlst_preppend\u001b[39m: \u001b[32mList\u001b[39m[\u001b[32mInt\u001b[39m] = \u001b[33mList\u001b[39m(\u001b[32m-1\u001b[39m, \u001b[32m1\u001b[39m, \u001b[32m2\u001b[39m, \u001b[32m3\u001b[39m, \u001b[32m4\u001b[39m, \u001b[32m5\u001b[39m, \u001b[32m6\u001b[39m, \u001b[32m7\u001b[39m, \u001b[32m8\u001b[39m, \u001b[32m9\u001b[39m)\n",
       "\u001b[36mlst_backappend\u001b[39m: \u001b[32mList\u001b[39m[\u001b[32mInt\u001b[39m] = \u001b[33mList\u001b[39m(\u001b[32m1\u001b[39m, \u001b[32m2\u001b[39m, \u001b[32m3\u001b[39m, \u001b[32m4\u001b[39m, \u001b[32m5\u001b[39m, \u001b[32m6\u001b[39m, \u001b[32m7\u001b[39m, \u001b[32m8\u001b[39m, \u001b[32m9\u001b[39m, \u001b[32m-1\u001b[39m)"
      ]
     },
     "execution_count": 50,
     "metadata": {},
     "output_type": "execute_result"
    }
   ],
   "source": [
    "val lst_preppend: List[Int] = -1 :: lst // cons operator \n",
    "val lst_backappend : List[Int] = lst ++ List(-1)"
   ]
  },
  {
   "cell_type": "code",
   "execution_count": 44,
   "id": "c442b234",
   "metadata": {},
   "outputs": [
    {
     "data": {
      "text/plain": [
       "\u001b[36mlst_append\u001b[39m: \u001b[32mList\u001b[39m[\u001b[32mInt\u001b[39m] = \u001b[33mList\u001b[39m(\n",
       "  \u001b[32m-1\u001b[39m,\n",
       "  \u001b[32m1\u001b[39m,\n",
       "  \u001b[32m2\u001b[39m,\n",
       "  \u001b[32m3\u001b[39m,\n",
       "  \u001b[32m4\u001b[39m,\n",
       "  \u001b[32m5\u001b[39m,\n",
       "  \u001b[32m6\u001b[39m,\n",
       "  \u001b[32m7\u001b[39m,\n",
       "  \u001b[32m8\u001b[39m,\n",
       "  \u001b[32m9\u001b[39m,\n",
       "  \u001b[32m1\u001b[39m,\n",
       "  \u001b[32m2\u001b[39m,\n",
       "  \u001b[32m3\u001b[39m,\n",
       "  \u001b[32m4\u001b[39m,\n",
       "  \u001b[32m5\u001b[39m,\n",
       "  \u001b[32m6\u001b[39m,\n",
       "  \u001b[32m7\u001b[39m,\n",
       "  \u001b[32m8\u001b[39m,\n",
       "  \u001b[32m9\u001b[39m\n",
       ")"
      ]
     },
     "execution_count": 44,
     "metadata": {},
     "output_type": "execute_result"
    }
   ],
   "source": [
    "val lst_append = lst_preppend ++ lst"
   ]
  },
  {
   "cell_type": "code",
   "execution_count": 95,
   "id": "faa8a272",
   "metadata": {},
   "outputs": [
    {
     "data": {
      "text/plain": [
       "defined \u001b[32mclass\u001b[39m \u001b[36mDog\u001b[39m"
      ]
     },
     "execution_count": 95,
     "metadata": {},
     "output_type": "execute_result"
    }
   ],
   "source": [
    "// User defined types \n",
    "\n",
    "class Dog(val tag_id: Int,  \n",
    "          val name: String, \n",
    "          val name_owner: String, \n",
    "          var bark: Int = 0) {\n",
    "    \n",
    "    def barkOnce: Unit = {\n",
    "        bark = bark +1 \n",
    "    }\n",
    "    \n",
    "    def getNumBarks: Int = {\n",
    "        bark   \n",
    "    }\n",
    "    \n",
    "}\n"
   ]
  },
  {
   "cell_type": "code",
   "execution_count": 96,
   "id": "9f0fb9fa",
   "metadata": {},
   "outputs": [
    {
     "name": "stdout",
     "output_type": "stream",
     "text": [
      "1001\n"
     ]
    },
    {
     "data": {
      "text/plain": [
       "\u001b[36md\u001b[39m: \u001b[32mDog\u001b[39m = ammonite.$sess.cmd94$Helper$Dog@2b33404f"
      ]
     },
     "execution_count": 96,
     "metadata": {},
     "output_type": "execute_result"
    }
   ],
   "source": [
    "val d: Dog = new Dog(1001,  \"Doggy\", \"Snoop\", 3)\n",
    "println(d.tag_id)\n"
   ]
  },
  {
   "cell_type": "code",
   "execution_count": 97,
   "id": "1b338b88",
   "metadata": {},
   "outputs": [
    {
     "data": {
      "text/plain": [
       "\u001b[36md2\u001b[39m: \u001b[32mDog\u001b[39m = ammonite.$sess.cmd94$Helper$Dog@2b33404f"
      ]
     },
     "execution_count": 97,
     "metadata": {},
     "output_type": "execute_result"
    }
   ],
   "source": [
    "val d2 : Dog = d"
   ]
  },
  {
   "cell_type": "code",
   "execution_count": 98,
   "id": "5440f644",
   "metadata": {},
   "outputs": [
    {
     "data": {
      "text/plain": [
       "\u001b[36mres97_1\u001b[39m: \u001b[32mInt\u001b[39m = \u001b[32m4\u001b[39m\n",
       "\u001b[36mres97_3\u001b[39m: \u001b[32mInt\u001b[39m = \u001b[32m5\u001b[39m"
      ]
     },
     "execution_count": 98,
     "metadata": {},
     "output_type": "execute_result"
    }
   ],
   "source": [
    "d.barkOnce\n",
    "d.getNumBarks\n",
    "d.barkOnce\n",
    "d.getNumBarks"
   ]
  },
  {
   "cell_type": "code",
   "execution_count": 72,
   "id": "af2569f7",
   "metadata": {},
   "outputs": [
    {
     "name": "stdout",
     "output_type": "stream",
     "text": [
      "3\n"
     ]
    }
   ],
   "source": [
    "println(d2.bark)"
   ]
  },
  {
   "cell_type": "code",
   "execution_count": 73,
   "id": "1e3b6f29",
   "metadata": {},
   "outputs": [],
   "source": [
    "d.bark = d.bark + 1"
   ]
  },
  {
   "cell_type": "code",
   "execution_count": 74,
   "id": "a48720bc",
   "metadata": {},
   "outputs": [
    {
     "name": "stdout",
     "output_type": "stream",
     "text": [
      "4\n"
     ]
    }
   ],
   "source": [
    "println(d.bark)"
   ]
  },
  {
   "cell_type": "code",
   "execution_count": 75,
   "id": "2a613b98",
   "metadata": {},
   "outputs": [
    {
     "name": "stdout",
     "output_type": "stream",
     "text": [
      "4\n"
     ]
    }
   ],
   "source": [
    "println(d2.bark)"
   ]
  },
  {
   "cell_type": "code",
   "execution_count": 76,
   "id": "c019a282",
   "metadata": {},
   "outputs": [
    {
     "data": {
      "text/plain": [
       "\u001b[36md3\u001b[39m: \u001b[32mDog\u001b[39m = ammonite.$sess.cmd68$Helper$Dog@32a79d67"
      ]
     },
     "execution_count": 76,
     "metadata": {},
     "output_type": "execute_result"
    }
   ],
   "source": [
    "val d3: Dog = new Dog(d.tag_id, d.name, d.name_owner, d.bark)"
   ]
  },
  {
   "cell_type": "code",
   "execution_count": 77,
   "id": "6bb28ddd",
   "metadata": {},
   "outputs": [
    {
     "name": "stdout",
     "output_type": "stream",
     "text": [
      "4"
     ]
    }
   ],
   "source": [
    "print(d3.bark)"
   ]
  },
  {
   "cell_type": "code",
   "execution_count": 78,
   "id": "a6bf1aed",
   "metadata": {},
   "outputs": [],
   "source": [
    "d.bark = d.bark + 1"
   ]
  },
  {
   "cell_type": "code",
   "execution_count": 79,
   "id": "381e6dcb",
   "metadata": {},
   "outputs": [
    {
     "name": "stdout",
     "output_type": "stream",
     "text": [
      "4"
     ]
    }
   ],
   "source": [
    "print(d3.bark)"
   ]
  },
  {
   "cell_type": "code",
   "execution_count": 84,
   "id": "3e82621e",
   "metadata": {},
   "outputs": [
    {
     "data": {
      "text/plain": [
       "defined \u001b[32mfunction\u001b[39m \u001b[36mnameOfTheFunction\u001b[39m"
      ]
     },
     "execution_count": 84,
     "metadata": {},
     "output_type": "execute_result"
    }
   ],
   "source": [
    "def nameOfTheFunction(x: Int, y: String, z: Char ):Int = {\n",
    "    // All function arguments in Scala are val\n",
    "    if (x >= 1){\n",
    "        return y.length\n",
    "    } else {\n",
    "        return z.toInt\n",
    "    }\n",
    "} "
   ]
  },
  {
   "cell_type": "code",
   "execution_count": 86,
   "id": "3e18050d",
   "metadata": {},
   "outputs": [
    {
     "data": {
      "text/plain": [
       "\u001b[36mres85\u001b[39m: \u001b[32mInt\u001b[39m = \u001b[32m99\u001b[39m"
      ]
     },
     "execution_count": 86,
     "metadata": {},
     "output_type": "execute_result"
    }
   ],
   "source": [
    "nameOfTheFunction(-10, \"hello\", 'c')"
   ]
  },
  {
   "cell_type": "code",
   "execution_count": 88,
   "id": "2a127934",
   "metadata": {},
   "outputs": [
    {
     "data": {
      "text/plain": [
       "defined \u001b[32mfunction\u001b[39m \u001b[36mmyCrazyFun\u001b[39m"
      ]
     },
     "execution_count": 88,
     "metadata": {},
     "output_type": "execute_result"
    }
   ],
   "source": [
    "def myCrazyFun(x: Int): Int = {\n",
    "    return nameOfTheFunction(x, x.toString, x.toChar)\n",
    "}"
   ]
  },
  {
   "cell_type": "code",
   "execution_count": 89,
   "id": "77681d40",
   "metadata": {},
   "outputs": [
    {
     "data": {
      "text/plain": [
       "\u001b[36mres88\u001b[39m: \u001b[32mInt\u001b[39m = \u001b[32m2\u001b[39m"
      ]
     },
     "execution_count": 89,
     "metadata": {},
     "output_type": "execute_result"
    }
   ],
   "source": [
    "myCrazyFun(10)"
   ]
  },
  {
   "cell_type": "code",
   "execution_count": null,
   "id": "4ecadd4b",
   "metadata": {},
   "outputs": [],
   "source": []
  }
 ],
 "metadata": {
  "interpreter": {
   "hash": "29d1c4f3314b17a47882b5b1f738f018f777688f1889acb81b9fe0a2339dc6b8"
  },
  "kernelspec": {
   "display_name": "Scala",
   "language": "python",
   "name": "python3"
  },
  "language_info": {
   "codemirror_mode": "text/x-scala",
   "file_extension": ".sc",
   "mimetype": "text/x-scala",
   "name": "python",
   "nbconvert_exporter": "script",
   "version": "3.9.7"
  }
 },
 "nbformat": 4,
 "nbformat_minor": 5
}
